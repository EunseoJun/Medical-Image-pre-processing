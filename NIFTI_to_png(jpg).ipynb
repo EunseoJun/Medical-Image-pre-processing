{
 "cells": [
  {
   "cell_type": "code",
   "execution_count": 1,
   "id": "1fea3fd0",
   "metadata": {},
   "outputs": [],
   "source": [
    "import os\n",
    "import pydicom as dicom \n",
    "import nibabel as nii \n",
    "import numpy as np\n",
    "import matplotlib.pyplot as plt\n",
    "import matplotlib.animation as animation \n",
    "from sklearn.preprocessing import normalize \n",
    "from PIL import Image \n",
    "import imageio\n",
    "import pydicom\n",
    "import nibabel as nib\n",
    "import random\n",
    "import shutil\n",
    "import random\n",
    "import cv2"
   ]
  },
  {
   "cell_type": "markdown",
   "id": "5276cb36",
   "metadata": {},
   "source": [
    "# NIFTI to png(jpg)"
   ]
  },
  {
   "cell_type": "code",
   "execution_count": null,
   "id": "a8702db1",
   "metadata": {},
   "outputs": [],
   "source": [
    "##HU scailing\n",
    "def window_image(img, window_center, window_width, rescale=True):\n",
    "    \n",
    "    img = np.clip(img, window_center - (window_width / 2), window_center + (window_width / 2))\n",
    "    \n",
    "    return img"
   ]
  },
  {
   "cell_type": "code",
   "execution_count": null,
   "id": "7eda7c54",
   "metadata": {},
   "outputs": [],
   "source": [
    "MASK_folder_path = os.path.realpath(os.getcwd())\n",
    "folder_path = os.path.realpath(os.getcwd()) + '/NIFTI'\n",
    "\n",
    "MASK_folder_path = os.path.realpath(os.getcwd()) + '/MASK'\n",
    "save_path = os.path.realpath(os.getcwd()) + '/save_npz'\n",
    "\n",
    "file = os.listdir(folder_path)\n",
    "files = os.listdir(MASK_folder_path)\n",
    "\n",
    "##################\n",
    "#data list 생성용 변수\n",
    "inv_list = []\n",
    "\n",
    "cnt = 0 #모니터용 값\n",
    "\n",
    "folder_path = os.path.realpath(os.getcwd()) + '/NIFTI'\n",
    "\n",
    "MASK_folder_path = os.path.realpath(os.getcwd()) + '/MASK'\n",
    "\n",
    "\n",
    "files = os.listdir(folder_path)\n",
    "# print(files)\n",
    "\n",
    "buffer = [] #미존재 mask\n",
    "\n",
    "for i in files:\n",
    "    print(str(i))\n",
    "    #mask path 만들어서 patient별 폴더 만들기\n",
    "#     make_npz_path = save_path + '\\\\' + i.rstrip('.nii.gz')\n",
    "#     os.mkdir(make_npz_path)\n",
    "    \n",
    "    #img load\n",
    "    img = nib.load(folder_path + '/' + i)\n",
    "    img_data = img.get_fdata()\n",
    "    #mask_load\n",
    "    try:\n",
    "        mask = nib.load(MASK_folder_path + '/' + i.rstrip('.gz'))\n",
    "        mask_data = mask.get_fdata()\n",
    "\n",
    "        slice = np.shape(img_data)[2] #sice 개수 얻기\n",
    "        for k in range(slice):    #slice 개수 동안\n",
    "            mask_result = (mask_data[:,:,k] * 255/mask_data.max()).astype(np.uint8)\n",
    "\n",
    "            if np.any(mask_result) == True: #mask 있는 data만 얻고 싶을때\n",
    "                image_temp = img_data[:,:,k]\n",
    "                image_result = (window_image(image_temp, 40, 80)).astype(np.uint8)\n",
    "\n",
    "                name = str(i.split('.')[0]) + '_' + str(k)\n",
    "                mask_path = 'image/gt/' + name + '.png'\n",
    "                image_path = 'image/image/' + name + '.png'\n",
    "\n",
    "                cv2.imwrite(mask_path, mask_result)\n",
    "                cv2.imwrite(image_path, image_result)\n",
    "                inv_list.append(name)\n",
    "\n",
    "\n",
    "            else:\n",
    "                pass\n",
    "        \n",
    "        cnt = cnt + 1\n",
    "        print(cnt)\n",
    "        \n",
    "    except:\n",
    "        buffer.append(MASK_folder_path + '/' + i.rstrip('.gz'))\n",
    "        pass\n",
    "    \n",
    "print(cnt)"
   ]
  }
 ],
 "metadata": {
  "kernelspec": {
   "display_name": "Python 3 (ipykernel)",
   "language": "python",
   "name": "python3"
  },
  "language_info": {
   "codemirror_mode": {
    "name": "ipython",
    "version": 3
   },
   "file_extension": ".py",
   "mimetype": "text/x-python",
   "name": "python",
   "nbconvert_exporter": "python",
   "pygments_lexer": "ipython3",
   "version": "3.11.5"
  }
 },
 "nbformat": 4,
 "nbformat_minor": 5
}
